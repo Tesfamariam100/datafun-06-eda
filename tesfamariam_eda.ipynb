{
 "cells": [
  {
   "cell_type": "markdown",
   "metadata": {},
   "source": [
    "## datafun-06-eda: Exploratory Data Analysis with Jupyter:Crop Production vs Climate\n",
    "\n",
    "Author: Tesfamariam  \n",
    "Date: Feb-12-2024  \n",
    "\n",
    "### Purpose of the Project\n",
    "The purpose of this project is to explore the relationship between crop production and climate conditions. By analyzing the available dataset, we aim to investigate how different climate indicators impact crop yields. Through exploratory data analysis (EDA), we seek to identify patterns, trends, and correlations between climate variables and crop production. This analysis can provide valuable insights for agricultural planning, resource allocation, and climate resilience strategies.\n"
   ]
  },
  {
   "cell_type": "markdown",
   "metadata": {},
   "source": [
    "### Import Dependencies\r\n",
    "import matplotlib.pyplot as plt\r\n",
    "import pandas as pd\r\n",
    "import seaborn as sns\r\n",
    "\r\n",
    "# 1tep 5: Exploratory Data Analysis\r\n",
    "#1Step 5.1: Data Acquisition\r\n",
    "# Load the dataset into a pandas DataFrame - adjust this process for your custoour data\r\n",
    "df = pd.read_csv('data.csv')\r\n",
    "\r\n",
    "# Inspect first rows of the DataFrame\r\n",
    "print(df.head())\r\n",
    "\r\n",
    "# Step 5.2: Initial Data Inspection\r\n",
    "# Display the first 10 rows of the DataFrame\r\n",
    "print(df.head(10))\r\n",
    "\r\n",
    "# Check the shape of the DataFrame\r\n",
    "print(df.shape)\r\n",
    "\r\n",
    "# Display the data types of each column\r\n",
    "print(df.dtypes)\r\n",
    "\r\n",
    "# Step 5.3: Initial Descriptive Statistics\r\n",
    "# Display summary statistics for each column\r\n",
    "print(df.describe())\r\n",
    "\r\n",
    "# Step 5.4: Initial Data Distribution for Numerical Columns\r\n",
    "# Choose a numerical column and use df['column_name'].hist() to plot a histogram for that specific column.\r\n",
    "# To show all the histograms for all numerical columns, use df.hist()\r\n",
    "\r\n",
    "# Inspect histogram by numerical column\r\n",
    "df['Value'].hist()\r\n",
    "\r\n",
    "# Inspect histograms for all numerical columns\r\n",
    "df.hist()\r\n",
    "\r\n",
    "# Show all plots\r\n",
    "plt.show()\r\n",
    "\r\n",
    "# Step 5.5: Initial Data Distribution for Categorical Columns\r\n",
    "# Choose a categorical column and use df['column_name'].value_counts() to display the count of each category.\r\n",
    "# Use a loop to show the value counts for all categorical columns.\r\n",
    "\r\n",
    "# Inspect value counts by categorical column\r\n",
    "print(df['LOCATION'].value_counts())  # Example, replace 'LOCATION' with your actual categorical column name\r\n",
    "\r\n",
    "# Inspect value counts for all categorical columns\r\n",
    "for col in df.select_dtypes(include=['object', 'category']).columns:\r\n",
    "    # Display count plot\r\n",
    "    sns.countplot(x=col, data=df)\r\n",
    "    plt.title(f'Distribution of {col}')\r\n",
    "    plt.show()\r\n",
    "\r\n",
    "# Show all plots\r\n",
    "plt.show()\r\n"
   ]
  },
  {
   "cell_type": "markdown",
   "metadata": {},
   "source": []
  }
 ],
 "metadata": {
  "kernelspec": {
   "display_name": "Python 3 (ipykernel)",
   "language": "python",
   "name": "python3"
  },
  "language_info": {
   "codemirror_mode": {
    "name": "ipython",
    "version": 3
   },
   "file_extension": ".py",
   "mimetype": "text/x-python",
   "name": "python",
   "nbconvert_exporter": "python",
   "pygments_lexer": "ipython3",
   "version": "3.12.1"
  }
 },
 "nbformat": 4,
 "nbformat_minor": 4
}
