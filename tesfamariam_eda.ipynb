{
 "cells": [
  {
   "cell_type": "markdown",
   "metadata": {},
   "source": [
    "## Datafun-06-eda: Exploratory Data Analysis with Jupyter:Crop Production\n",
    "\n",
    "Author: Tesfamariam  \n",
    "Date: Feb-12-2024  \n",
    "\n",
    "### Purpose of the Project\n",
    "The goal of this project is to perform analysis of agricultural crop yield data and visualize insights derived from the dataset. The analysis includes examining trends, patterns, and relationships within the data to gain meaningful insights into crop yield variations across different countries and years using Python, Jupyter Notebook, pandas, Seaborn, and other data analytics tools.\n"
   ]
  },
  {
   "cell_type": "markdown",
   "metadata": {},
   "source": [
    "### Deliverables "
   ]
  },
  {
   "cell_type": "markdown",
   "metadata": {},
   "source": [
    "- **GitHub Repository**: [datafun-06-eda](https://github.com/Tesfamariam100/datafun-06-eda.git)\n",
    "- **Documentation**: README.md\n",
    "- **Notebook**: Tesfamariam_eda.ipynb"
   ]
  },
  {
   "cell_type": "markdown",
   "metadata": {},
   "source": [
    "### External Dependencies"
   ]
  },
  {
   "cell_type": "markdown",
   "metadata": {},
   "source": [
    "- jupyterlab\n",
    "- pandas\n",
    "- pyarrow\n",
    "- matplotlib\n",
    "- seaborn"
   ]
  },
  {
   "cell_type": "markdown",
   "metadata": {},
   "source": [
    "## Exploratory Data Analysis"
   ]
  },
  {
   "cell_type": "markdown",
   "metadata": {},
   "source": [
    "This is a link to my data:\n",
    "https://github.com/Tesfamariam100/datafun-06-eda/blob/main/crop_production.csv \n",
    "\n",
    "The dataset used for this project contains information about agricultural \n",
    "crop yield from different countries over several years. \n",
    "It includes the following columns:\n",
    "(index,\tLOCATION,\tINDICATOR,\tSUBJECT, MEASURE,\tTIME,\tValue,)"
   ]
  },
  {
   "cell_type": "code",
   "execution_count": null,
   "metadata": {},
   "outputs": [],
   "source": []
  },
  {
   "cell_type": "markdown",
   "metadata": {},
   "source": [
    "ncludes the following columns:\r\n",
    "\r\n",
    "## Getting Started\r\n",
    "\r\n",
    "Follow these steps to set up the project on your local machine:\r\n",
    "\r\n",
    "### Environment Setup\r\n",
    "\r\n",
    "1. Create and activate the project virtual environment:\r\n",
    "\r\n",
    "    ```bash\r\n",
    "    python -m venv .venv\r\n",
    "    ```\r\n",
    "\r\n",
    "    For Windows:\r\n",
    "\r\n",
    "    ```bash\r\n",
    "    .\\.venv\\Scripts\\Activate\r\n",
    "    ```\r\n",
    "2. Install all required packages into your local project virtual environment:\r\n",
    "\r\n",
    "    ```bash\r\n",
    "    pip install jupyterlab pandas pyarrow matplotlib seaborn\r\n",
    "    ```\r\n",
    "\r\n",
    "3. Update or generate a requirements.txt file:\r\n",
    "\r\n",
    "    ```bash\r\n",
    "    pip freeze > requirements.txt\r\n",
    "    ```\r\n",
    "\r\n",
    "4. Add a .gitignore file to your project with useful entries. You can use the following content:\r\n",
    "\r\n",
    "    ```plaintext\r\n",
    "    # Python virtual environment\r\n",
    "    .venv/\r\n",
    "\r\n",
    "    # Visual Studio Code settings and workspace\r\n",
    "    .vscode/\r\n",
    "\r\n",
    "    # Compiled Python files\r\n",
    "    __pycache__/\r\n",
    "\r\n",
    "    # macOS system files\r\n",
    "    .DS_Store\r\n",
    "\r\n",
    "    # Editor backup files\r\n",
    "    *~\r\n",
    "\r\n",
    "    # Python Jupyter Notebook checkpoints and runtime files\r\n",
    "    .ipynb_checkpoints/\r\n",
    "    *.ipynb_meta/\r\n",
    "    ```\r\n",
    "\r\n",
    "5. Document the steps and commands in your README.md file.\r\n",
    "\r\n",
    "## Git Commands\r\n",
    "\r\n",
    "To add, commit, and push changes to your GitHub repository, use the following commands:\r\n",
    "\r\n",
    "```bash\r\n",
    "# Add changes\r\n",
    "git add .\r\n",
    "\r\n",
    "# Commit changes with a descriptive message\r\n",
    "git commit -m \"Initial commit\"\r\n",
    "\r\n",
    "# Push changes to GitHub\r\n",
    "git push origin main\r\n",
    "\r\n",
    "pip install pytest\r\n",
    "\r\n"
   ]
  },
  {
   "cell_type": "code",
   "execution_count": null,
   "metadata": {},
   "outputs": [],
   "source": []
  }
 ],
 "metadata": {
  "kernelspec": {
   "display_name": "Python 3 (ipykernel)",
   "language": "python",
   "name": "python3"
  },
  "language_info": {
   "codemirror_mode": {
    "name": "ipython",
    "version": 3
   },
   "file_extension": ".py",
   "mimetype": "text/x-python",
   "name": "python",
   "nbconvert_exporter": "python",
   "pygments_lexer": "ipython3",
   "version": "3.12.1"
  }
 },
 "nbformat": 4,
 "nbformat_minor": 4
}
